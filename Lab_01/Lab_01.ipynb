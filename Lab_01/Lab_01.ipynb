{
 "cells": [
  {
   "cell_type": "code",
   "execution_count": 26,
   "metadata": {},
   "outputs": [],
   "source": [
    "#question1 - Toread and save the image from/in storage device.\n",
    "import numpy as np \n",
    "import cv2\n",
    "img = cv2.imread(\"Lab_Images/apple_noise.jpg\" , -1) #0-gray , -1-color\n",
    "cv2.imshow(\"apple_window\", img)\n",
    "cv2.imwrite(\"outputimgapple.jpg\" , img)\n",
    "cv2.waitKey(0)    \n",
    "cv2.destroyAllWindows()\n"
   ]
  },
  {
   "cell_type": "code",
   "execution_count": 10,
   "metadata": {},
   "outputs": [
    {
     "name": "stdout",
     "output_type": "stream",
     "text": [
      "(400, 400)\n",
      "160000\n",
      "uint8\n"
     ]
    }
   ],
   "source": [
    "#qestion2 - To access pixel valuesof an imageand modify them.\n",
    "import numpy as np\n",
    "import cv2\n",
    "img = cv2.imread(\"Lab_Images/apple_noise.jpg\" , cv2.IMREAD_GRAYSCALE)\n",
    "cv2.imshow(\"apple_window1\", img)\n",
    "print( img.shape )\n",
    "print(img.size)\n",
    "print(img.dtype)\n",
    "cv2.waitKey(0)    \n",
    "cv2.destroyAllWindows()"
   ]
  },
  {
   "cell_type": "code",
   "execution_count": 14,
   "metadata": {},
   "outputs": [
    {
     "name": "stdout",
     "output_type": "stream",
     "text": [
      "(400, 400)\n",
      "160000\n",
      "uint8\n"
     ]
    }
   ],
   "source": [
    "#qestion3 - To access image properties.\n",
    "import numpy as np\n",
    "import cv2\n",
    "img = cv2.imread(\"Lab_Images/apple_noise.jpg\" , cv2.IMREAD_GRAYSCALE)\n",
    "cv2.imshow(\"apple_window1\", img)\n",
    "print( img.shape )\n",
    "print(img.size)\n",
    "print(img.dtype)\n",
    "cv2.waitKey(0)    \n",
    "cv2.destroyAllWindows()"
   ]
  },
  {
   "cell_type": "code",
   "execution_count": 20,
   "metadata": {},
   "outputs": [],
   "source": [
    "#question4 - To split and merge channels\n",
    "import numpy as np\n",
    "import cv2\n",
    "img = cv2.imread(\"Lab_Images/apple_noise.jpg\" , 1)\n",
    "b , g, r = cv2.split(img)\n",
    "cv2.imshow('IMAGE1' , b)\n",
    "cv2.waitKey(0)\n",
    "cv2.imshow('IMAGE2' , g)\n",
    "cv2.waitKey(0)\n",
    "cv2.imshow('IMAGE3' , r)\n",
    "cv2.waitKey(0)\n",
    "\n",
    "image = cv2.merge((b,g,r))\n",
    "cv2.imshow('image' , img)\n",
    "cv2.waitKey(0)\n",
    "cv2.destroyAllWindows()"
   ]
  },
  {
   "cell_type": "code",
   "execution_count": 6,
   "metadata": {},
   "outputs": [],
   "source": [
    "#question5 - To resize/rotate image\n",
    "import numpy as np\n",
    "import cv2\n",
    "img = cv2.imread(\"Lab_Images/apple_noise.jpg\" , 1)\n",
    "cv2.imshow(\"apple_window1\", img)\n",
    "cv2.waitKey(0)\n",
    "\n",
    "#resized image\n",
    "resized = cv2.resize(img,(100,100))\n",
    "cv2.imshow(\"resized\" , resized)\n",
    "cv2.waitKey(0)\n",
    "\n",
    "#flipped\n",
    "flipped = cv2.flip(img,1)\n",
    "cv2.imshow(\"flip\" , flipped)\n",
    "cv2.waitKey(0)\n",
    "\n",
    "#rotate\n",
    "h , w = img.shape[:2]\n",
    "center = (w // 2,h //2)\n",
    "m = cv2.getRotationMatrix2D(center , 60 , 1.0)\n",
    "rotate = cv2.warpAffine(img , m, (w,h))\n",
    "cv2.imshow(\"rotate\" ,rotate )\n",
    "cv2.waitKey(0)\n",
    "cv2.destroyAllWindows()"
   ]
  },
  {
   "cell_type": "code",
   "execution_count": 23,
   "metadata": {},
   "outputs": [
    {
     "ename": "NameError",
     "evalue": "name 'cv' is not defined",
     "output_type": "error",
     "traceback": [
      "\u001b[1;31m---------------------------------------------------------------------------\u001b[0m",
      "\u001b[1;31mNameError\u001b[0m                                 Traceback (most recent call last)",
      "\u001b[1;32m<ipython-input-23-f52daae89412>\u001b[0m in \u001b[0;36m<module>\u001b[1;34m\u001b[0m\n\u001b[0;32m      7\u001b[0m \u001b[0mcv2\u001b[0m\u001b[1;33m.\u001b[0m\u001b[0mimshow\u001b[0m\u001b[1;33m(\u001b[0m\u001b[1;34m\"rotate\"\u001b[0m \u001b[1;33m,\u001b[0m\u001b[0mimg\u001b[0m \u001b[1;33m)\u001b[0m\u001b[1;33m\u001b[0m\u001b[1;33m\u001b[0m\u001b[0m\n\u001b[0;32m      8\u001b[0m \u001b[0mcv2\u001b[0m\u001b[1;33m.\u001b[0m\u001b[0mwaitKey\u001b[0m\u001b[1;33m(\u001b[0m\u001b[1;36m0\u001b[0m\u001b[1;33m)\u001b[0m\u001b[1;33m\u001b[0m\u001b[1;33m\u001b[0m\u001b[0m\n\u001b[1;32m----> 9\u001b[1;33m \u001b[0mcv\u001b[0m\u001b[1;33m.\u001b[0m\u001b[0mrectangle\u001b[0m\u001b[1;33m(\u001b[0m\u001b[0mimg\u001b[0m\u001b[1;33m,\u001b[0m\u001b[1;33m(\u001b[0m\u001b[1;36m384\u001b[0m\u001b[1;33m,\u001b[0m\u001b[1;36m0\u001b[0m\u001b[1;33m)\u001b[0m\u001b[1;33m,\u001b[0m\u001b[1;33m(\u001b[0m\u001b[1;36m510\u001b[0m\u001b[1;33m,\u001b[0m\u001b[1;36m128\u001b[0m\u001b[1;33m)\u001b[0m\u001b[1;33m,\u001b[0m\u001b[1;33m(\u001b[0m\u001b[1;36m0\u001b[0m\u001b[1;33m,\u001b[0m\u001b[1;36m255\u001b[0m\u001b[1;33m,\u001b[0m\u001b[1;36m0\u001b[0m\u001b[1;33m)\u001b[0m\u001b[1;33m,\u001b[0m\u001b[1;36m3\u001b[0m\u001b[1;33m)\u001b[0m\u001b[1;33m\u001b[0m\u001b[1;33m\u001b[0m\u001b[0m\n\u001b[0m\u001b[0;32m     10\u001b[0m \u001b[0mcv2\u001b[0m\u001b[1;33m.\u001b[0m\u001b[0mimshow\u001b[0m\u001b[1;33m(\u001b[0m\u001b[1;34m\"rotate\"\u001b[0m \u001b[1;33m,\u001b[0m\u001b[0mimg\u001b[0m \u001b[1;33m)\u001b[0m\u001b[1;33m\u001b[0m\u001b[1;33m\u001b[0m\u001b[0m\n\u001b[0;32m     11\u001b[0m \u001b[0mcv2\u001b[0m\u001b[1;33m.\u001b[0m\u001b[0mdestroyAllWindows\u001b[0m\u001b[1;33m(\u001b[0m\u001b[1;33m)\u001b[0m\u001b[1;33m\u001b[0m\u001b[1;33m\u001b[0m\u001b[0m\n",
      "\u001b[1;31mNameError\u001b[0m: name 'cv' is not defined"
     ]
    }
   ],
   "source": [
    "#question6 - To drawcircle/rectangle/lines.\n",
    "import numpy as np\n",
    "import cv2\n",
    "import matplotlib.pyplot as plt\n",
    "img = np.zeros((500, 500, 3), dtype=\"uint8\")\n",
    "cv2.line(img, (0,0), (500,500), (0,0,0), (10))\n",
    "cv2.imshow(\"rotate\" ,img )\n",
    "cv2.waitKey(0)\n",
    "cv.rectangle(img,(384,0),(510,128),(0,255,0),3)\n",
    "cv2.imshow(\"rotate\" ,img )\n",
    "cv2.destroyAllWindows()\n"
   ]
  },
  {
   "cell_type": "code",
   "execution_count": null,
   "metadata": {},
   "outputs": [],
   "source": []
  }
 ],
 "metadata": {
  "kernelspec": {
   "display_name": "Python 3",
   "language": "python",
   "name": "python3"
  },
  "language_info": {
   "codemirror_mode": {
    "name": "ipython",
    "version": 3
   },
   "file_extension": ".py",
   "mimetype": "text/x-python",
   "name": "python",
   "nbconvert_exporter": "python",
   "pygments_lexer": "ipython3",
   "version": "3.8.3"
  }
 },
 "nbformat": 4,
 "nbformat_minor": 4
}
