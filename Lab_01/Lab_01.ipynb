{
 "cells": [
  {
   "cell_type": "code",
   "execution_count": 24,
   "metadata": {},
   "outputs": [],
   "source": [
    "#question1 - Toread and save the image from/in storage device.\n",
    "import numpy as np \n",
    "import cv2\n",
    "img = cv2.imread(\"Lab_Images/apple_noise.jpg\" , 0) #0-gray , -1-color\n",
    "cv2.imshow(\"apple_window\", img)\n",
    "cv2.imwrite(\"outputimgapple.jpg\" , img)\n",
    "cv2.waitKey(0)    \n",
    "cv2.destroyAllWindows()\n"
   ]
  },
  {
   "cell_type": "code",
   "execution_count": null,
   "metadata": {},
   "outputs": [],
   "source": []
  },
  {
   "cell_type": "code",
   "execution_count": null,
   "metadata": {},
   "outputs": [],
   "source": []
  }
 ],
 "metadata": {
  "kernelspec": {
   "display_name": "Python 3",
   "language": "python",
   "name": "python3"
  },
  "language_info": {
   "codemirror_mode": {
    "name": "ipython",
    "version": 3
   },
   "file_extension": ".py",
   "mimetype": "text/x-python",
   "name": "python",
   "nbconvert_exporter": "python",
   "pygments_lexer": "ipython3",
   "version": "3.8.3"
  }
 },
 "nbformat": 4,
 "nbformat_minor": 4
}
