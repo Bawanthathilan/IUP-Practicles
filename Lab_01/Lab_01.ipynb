{
 "cells": [
  {
   "cell_type": "code",
   "execution_count": 26,
   "metadata": {},
   "outputs": [],
   "source": [
    "#question1 - Toread and save the image from/in storage device.\n",
    "import numpy as np \n",
    "import cv2\n",
    "img = cv2.imread(\"Lab_Images/apple_noise.jpg\" , -1) #0-gray , -1-color\n",
    "cv2.imshow(\"apple_window\", img)\n",
    "cv2.imwrite(\"outputimgapple.jpg\" , img)\n",
    "cv2.waitKey(0)    \n",
    "cv2.destroyAllWindows()\n"
   ]
  },
  {
   "cell_type": "code",
   "execution_count": 10,
   "metadata": {},
   "outputs": [
    {
     "name": "stdout",
     "output_type": "stream",
     "text": [
      "(400, 400)\n",
      "160000\n",
      "uint8\n"
     ]
    }
   ],
   "source": [
    "#qestion2 - To access pixel valuesof an imageand modify them.\n",
    "import numpy as np\n",
    "import cv2\n",
    "img = cv2.imread(\"Lab_Images/apple_noise.jpg\" , cv2.IMREAD_GRAYSCALE)\n",
    "cv2.imshow(\"apple_window1\", img)\n",
    "print( img.shape )\n",
    "print(img.size)\n",
    "print(img.dtype)\n",
    "cv2.waitKey(0)    \n",
    "cv2.destroyAllWindows()"
   ]
  },
  {
   "cell_type": "code",
   "execution_count": 14,
   "metadata": {},
   "outputs": [
    {
     "name": "stdout",
     "output_type": "stream",
     "text": [
      "(400, 400)\n",
      "160000\n",
      "uint8\n"
     ]
    }
   ],
   "source": [
    "#qestion3 - To access image properties.\n",
    "import numpy as np\n",
    "import cv2\n",
    "img = cv2.imread(\"Lab_Images/apple_noise.jpg\" , cv2.IMREAD_GRAYSCALE)\n",
    "cv2.imshow(\"apple_window1\", img)\n",
    "print( img.shape )\n",
    "print(img.size)\n",
    "print(img.dtype)\n",
    "cv2.waitKey(0)    \n",
    "cv2.destroyAllWindows()"
   ]
  },
  {
   "cell_type": "code",
   "execution_count": 20,
   "metadata": {},
   "outputs": [],
   "source": [
    "#question4 - To split and merge channels\n",
    "import numpy as np\n",
    "import cv2\n",
    "img = cv2.imread(\"Lab_Images/apple_noise.jpg\" , 1)\n",
    "b , g, r = cv2.split(img)\n",
    "cv2.imshow('IMAGE1' , b)\n",
    "cv2.waitKey(0)\n",
    "cv2.imshow('IMAGE2' , g)\n",
    "cv2.waitKey(0)\n",
    "cv2.imshow('IMAGE3' , r)\n",
    "cv2.waitKey(0)\n",
    "\n",
    "image = cv2.merge((b,g,r))\n",
    "cv2.imshow('image' , img)\n",
    "cv2.waitKey(0)\n",
    "cv2.destroyAllWindows()"
   ]
  },
  {
   "cell_type": "code",
   "execution_count": 6,
   "metadata": {},
   "outputs": [],
   "source": [
    "#question5 - To resize/rotate image\n",
    "import numpy as np\n",
    "import cv2\n",
    "img = cv2.imread(\"Lab_Images/apple_noise.jpg\" , 1)\n",
    "cv2.imshow(\"apple_window1\", img)\n",
    "cv2.waitKey(0)\n",
    "\n",
    "#resized image\n",
    "resized = cv2.resize(img,(100,100))\n",
    "cv2.imshow(\"resized\" , resized)\n",
    "cv2.waitKey(0)\n",
    "\n",
    "#flipped\n",
    "flipped = cv2.flip(img,1)\n",
    "cv2.imshow(\"flip\" , flipped)\n",
    "cv2.waitKey(0)\n",
    "\n",
    "#rotate\n",
    "h , w = img.shape[:2]\n",
    "center = (w // 2,h //2)\n",
    "m = cv2.getRotationMatrix2D(center , 60 , 1.0)\n",
    "rotate = cv2.warpAffine(img , m, (w,h))\n",
    "cv2.imshow(\"rotate\" ,rotate )\n",
    "cv2.waitKey(0)\n",
    "cv2.destroyAllWindows()"
   ]
  },
  {
   "cell_type": "code",
   "execution_count": null,
   "metadata": {},
   "outputs": [],
   "source": []
  }
 ],
 "metadata": {
  "kernelspec": {
   "display_name": "Python 3",
   "language": "python",
   "name": "python3"
  },
  "language_info": {
   "codemirror_mode": {
    "name": "ipython",
    "version": 3
   },
   "file_extension": ".py",
   "mimetype": "text/x-python",
   "name": "python",
   "nbconvert_exporter": "python",
   "pygments_lexer": "ipython3",
   "version": "3.8.3"
  }
 },
 "nbformat": 4,
 "nbformat_minor": 4
}
