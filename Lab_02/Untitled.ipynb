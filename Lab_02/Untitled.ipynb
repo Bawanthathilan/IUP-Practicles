{
 "cells": [
  {
   "cell_type": "code",
   "execution_count": 32,
   "metadata": {},
   "outputs": [],
   "source": [
    "import numpy as np\n",
    "import cv2 \n"
   ]
  },
  {
   "cell_type": "code",
   "execution_count": 33,
   "metadata": {},
   "outputs": [],
   "source": [
    "cap = cv.VideoCapture('small_laptop_connections.mov')"
   ]
  },
  {
   "cell_type": "code",
   "execution_count": 35,
   "metadata": {},
   "outputs": [],
   "source": [
    "while(cap.isOpened()):\n",
    "    ret,frame = cap.read()\n",
    "\n",
    "    hsv = cv2.cvtColor(frame,cv2.COLOR_BGR2HSV) #convert color of the frame from BGR to HSV\n",
    "    \n",
    "    #define lower blue and upper blue\n",
    "    lower_blue = np.array([110,50,50]) #lower blue\n",
    "    upper_blue = np.array([130,255,255]) #upper blue\n",
    "    \n",
    "    #threshold the HSV image to get only the blue color\n",
    "    mask = cv2.inRange(hsv,lower_blue,upper_blue)\n",
    "    \n",
    "    res = cv2.bitwise_and(frame,frame,mask=mask)\n",
    "    \n",
    "    #create 3 separete windows for original video , output binary vodeo and to the result video\n",
    "    imS = cv2.resize(frame,(500,500)) #original video\n",
    "    cv2.imshow(\"input\",imS)\n",
    "    \n",
    "    imS2 = cv2.resize(mask,(500,500)) #output binary video\n",
    "    cv2.imshow(\"outputbinary\",imS2)\n",
    "    \n",
    "    imS3 = cv2.resize(res,(500,500)) #result video\n",
    "    cv2.imshow(\"result\",imS3)\n",
    "    \n",
    "    if cv2.waitKey(1) & 0xFF == ord('q'): #waitkey returns -1 when no input is made |word(char)--> returns the ACII value of the characters which would again maximum 255\n",
    "        break\n",
    "    \n",
    "    cap.release() #to release the video\n",
    "    cv2.destroyAllWindows()"
   ]
  },
  {
   "cell_type": "code",
   "execution_count": null,
   "metadata": {},
   "outputs": [],
   "source": []
  }
 ],
 "metadata": {
  "kernelspec": {
   "display_name": "Python 3",
   "language": "python",
   "name": "python3"
  },
  "language_info": {
   "codemirror_mode": {
    "name": "ipython",
    "version": 3
   },
   "file_extension": ".py",
   "mimetype": "text/x-python",
   "name": "python",
   "nbconvert_exporter": "python",
   "pygments_lexer": "ipython3",
   "version": "3.8.3"
  }
 },
 "nbformat": 4,
 "nbformat_minor": 4
}
