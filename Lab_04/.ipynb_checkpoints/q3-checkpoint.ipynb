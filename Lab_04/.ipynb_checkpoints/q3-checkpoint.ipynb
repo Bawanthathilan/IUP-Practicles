{
 "cells": [
  {
   "cell_type": "code",
   "execution_count": null,
   "metadata": {},
   "outputs": [],
   "source": [
    "import cv2\n",
    "import numpy as np\n",
    "import matplotlib.pyplot as plt\n",
    "\n",
    "img2=cv2.imread(\"images.jpg\",0)\n",
    "img1=cv2.imread(\"bimg.jpg\",0)\n",
    "\n",
    "hist1 = cv2.calcHist([img1],[0],None,[256],[0,256])\n",
    "hist2 = cv2.calcHist([img2],[0],None,[256],[0,256])\n",
    "\n",
    "equalizedImg1 = cv2.equalizeHist(img1)\n",
    "equalizedImg2 = cv2.equalizeHist(img2)\n",
    "\n",
    "hist3=cv2.calcHist([equalizedImg1],[0],None,[256],[0,256])\n",
    "hist4=cv2.calcHist([equalizedImg2],[0],None,[256],[0,256])\n",
    "\n",
    "plt.subplot(221),plt.plot(hist1)\n",
    "plt.subplot(222),plt.plot(hist2)\n",
    "plt.subplot(223),plt.plot(hist3)\n",
    "plt.subplot(224),plt.plot(hist4)\n",
    "\n",
    "plt.xlim([0,256])\n",
    "\n",
    "cv2.imwrite('Equalizedimg1.jpg',equalizedImg1)\n",
    "cv2.imwrite('Equalizedimg2.jpg',equalizedImg2)\n",
    "\n",
    "result1=np.hstack((img1,equalizedImg1))\n",
    "cv2.imshow('Result1',result1)\n",
    "\n",
    "result2=np.hstack((img2,equalizedImg2))\n",
    "cv2.imshow('Result2',result2)\n",
    "\n",
    "\n",
    "cv2.waitKey(0)"
   ]
  },
  {
   "cell_type": "code",
   "execution_count": null,
   "metadata": {},
   "outputs": [],
   "source": []
  },
  {
   "cell_type": "code",
   "execution_count": null,
   "metadata": {},
   "outputs": [],
   "source": []
  }
 ],
 "metadata": {
  "kernelspec": {
   "display_name": "Python 3",
   "language": "python",
   "name": "python3"
  },
  "language_info": {
   "codemirror_mode": {
    "name": "ipython",
    "version": 3
   },
   "file_extension": ".py",
   "mimetype": "text/x-python",
   "name": "python",
   "nbconvert_exporter": "python",
   "pygments_lexer": "ipython3",
   "version": "3.8.3"
  }
 },
 "nbformat": 4,
 "nbformat_minor": 4
}
