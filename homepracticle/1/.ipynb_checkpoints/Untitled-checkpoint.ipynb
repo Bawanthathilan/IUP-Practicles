{
 "cells": [
  {
   "cell_type": "code",
   "execution_count": 15,
   "metadata": {},
   "outputs": [],
   "source": [
    "import cv2\n",
    "\n"
   ]
  },
  {
   "cell_type": "code",
   "execution_count": 16,
   "metadata": {},
   "outputs": [
    {
     "ename": "SyntaxError",
     "evalue": "invalid syntax (<ipython-input-16-8ab9e7f1f954>, line 14)",
     "output_type": "error",
     "traceback": [
      "\u001b[1;36m  File \u001b[1;32m\"<ipython-input-16-8ab9e7f1f954>\"\u001b[1;36m, line \u001b[1;32m14\u001b[0m\n\u001b[1;33m    if cv2.waitKey(1) & 0xFF ==ord(\"S\")\u001b[0m\n\u001b[1;37m                                       ^\u001b[0m\n\u001b[1;31mSyntaxError\u001b[0m\u001b[1;31m:\u001b[0m invalid syntax\n"
     ]
    }
   ],
   "source": [
    "cap = cv2.VideoCapture(0)\n",
    "\n",
    "cascade = cv2.CascadeClassifier(\"images/default.xml\")\n",
    "\n",
    "while True:\n",
    "    success,frame=cap.read()\n",
    "    gray = cv2.cvtColor(frame,cv2.COLOR_BGR2GRAY)\n",
    "    faces = cascade.detectMultiScale(gray,1.3,5)\n",
    "\n",
    "for(x,y,w,h) in  faces:\n",
    "    cv2.rectangle(frame, (x,y),(x+w,y+h), (255,0,0),2)\n",
    "    \n",
    "    cv2.imshow(\"webcam\" ,frame)\n",
    "    if cv2.waitKey(1) & 0xFF ==ord(\"s\")\n",
    "        break\n",
    "cap.release()"
   ]
  },
  {
   "cell_type": "code",
   "execution_count": null,
   "metadata": {},
   "outputs": [],
   "source": []
  }
 ],
 "metadata": {
  "kernelspec": {
   "display_name": "Python 3",
   "language": "python",
   "name": "python3"
  },
  "language_info": {
   "codemirror_mode": {
    "name": "ipython",
    "version": 3
   },
   "file_extension": ".py",
   "mimetype": "text/x-python",
   "name": "python",
   "nbconvert_exporter": "python",
   "pygments_lexer": "ipython3",
   "version": "3.8.3"
  }
 },
 "nbformat": 4,
 "nbformat_minor": 4
}
